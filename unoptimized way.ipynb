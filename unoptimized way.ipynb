{
 "cells": [
  {
   "cell_type": "code",
   "execution_count": 1,
   "metadata": {},
   "outputs": [
    {
     "name": "stdout",
     "output_type": "stream",
     "text": [
      "pygame 2.5.1 (SDL 2.28.2, Python 3.9.16)\n",
      "Hello from the pygame community. https://www.pygame.org/contribute.html\n"
     ]
    }
   ],
   "source": [
    "import torch\n",
    "import pygame"
   ]
  },
  {
   "cell_type": "code",
   "execution_count": 2,
   "metadata": {},
   "outputs": [],
   "source": [
    "# world initialization settings:\n",
    "simulation_dimension = 2\n",
    "num_of_particles = 50\n",
    "scatter_size = 200\n",
    "\n",
    "# particle interaction settings:\n",
    "big_G = 1\n",
    "particle_mass = 1\n",
    "momentum_conservation_value = 1"
   ]
  },
  {
   "cell_type": "code",
   "execution_count": 3,
   "metadata": {},
   "outputs": [],
   "source": [
    "GPU = torch.device(\"cuda\")\n",
    "world = (2 * scatter_size * torch.rand(num_of_particles * simulation_dimension, dtype=torch.float32, device=GPU) - scatter_size).view(-1, simulation_dimension)"
   ]
  },
  {
   "cell_type": "code",
   "execution_count": 4,
   "metadata": {},
   "outputs": [],
   "source": [
    "def get_single_particle_vector(particle_idx, world):\n",
    "    vector_sum = torch.tensor([0] * simulation_dimension, dtype=torch.float32, device=GPU)\n",
    "    current_particle = world[particle_idx]\n",
    "    COUNTER = 0\n",
    "    \n",
    "    for x in world:\n",
    "        if COUNTER != particle_idx:\n",
    "            difference = x - current_particle\n",
    "            difference_squared = difference ** 2\n",
    "            distance = torch.sum(difference_squared)\n",
    "            inverse_distance = 1 / distance\n",
    "            vector = difference * inverse_distance * big_G\n",
    "            vector_sum += vector\n",
    "        \n",
    "        COUNTER += 1\n",
    "    \n",
    "    return vector_sum"
   ]
  },
  {
   "cell_type": "code",
   "execution_count": 5,
   "metadata": {},
   "outputs": [],
   "source": [
    "def get_global_vectors(world, momentum_vectors):\n",
    "    global_vectors = torch.zeros(world.shape, dtype=torch.float32, device=GPU)\n",
    "    \n",
    "    for x in range(len(world)):\n",
    "        global_vectors[x] += get_single_particle_vector(x, world)\n",
    "    \n",
    "    return global_vectors + momentum_vectors * momentum_conservation_value"
   ]
  },
  {
   "cell_type": "code",
   "execution_count": 6,
   "metadata": {},
   "outputs": [
    {
     "ename": "NameError",
     "evalue": "name 'sys' is not defined",
     "output_type": "error",
     "traceback": [
      "\u001b[1;31m---------------------------------------------------------------------------\u001b[0m",
      "\u001b[1;31mNameError\u001b[0m                                 Traceback (most recent call last)",
      "\u001b[1;32mc:\\Users\\user\\Desktop\\AUTOENCODER\\omg_first_time_no_bugs_hall_of_fame.ipynb Cell 6\u001b[0m line \u001b[0;36m7\n\u001b[0;32m     <a href='vscode-notebook-cell:/c%3A/Users/user/Desktop/AUTOENCODER/omg_first_time_no_bugs_hall_of_fame.ipynb#W5sZmlsZQ%3D%3D?line=70'>71</a>\u001b[0m \u001b[39m# Quit Pygame\u001b[39;00m\n\u001b[0;32m     <a href='vscode-notebook-cell:/c%3A/Users/user/Desktop/AUTOENCODER/omg_first_time_no_bugs_hall_of_fame.ipynb#W5sZmlsZQ%3D%3D?line=71'>72</a>\u001b[0m pygame\u001b[39m.\u001b[39mquit()\n\u001b[1;32m---> <a href='vscode-notebook-cell:/c%3A/Users/user/Desktop/AUTOENCODER/omg_first_time_no_bugs_hall_of_fame.ipynb#W5sZmlsZQ%3D%3D?line=72'>73</a>\u001b[0m sys\u001b[39m.\u001b[39mexit()\n",
      "\u001b[1;31mNameError\u001b[0m: name 'sys' is not defined"
     ]
    }
   ],
   "source": [
    "# Initialize Pygame\n",
    "pygame.init()\n",
    "\n",
    "# Set the window dimensions\n",
    "window_size = (800, 800)\n",
    "\n",
    "# Create a window\n",
    "screen = pygame.display.set_mode(window_size)\n",
    "pygame.display.set_caption(\"Particle Simulation\")\n",
    "\n",
    "# Define colors\n",
    "bg_color = (0, 0, 0)\n",
    "\n",
    "# Function to map PyTorch tensor positions to screen coordinates\n",
    "def map_to_screen(position, max_position):\n",
    "    x, y = position.detach().cpu().numpy()\n",
    "    x = int((x / max_position + 1) * window_size[0] / 2)\n",
    "    y = int((y / max_position + 1) * window_size[1] / 2)\n",
    "    return x, y\n",
    "\n",
    "# Main game loop\n",
    "running = True\n",
    "\n",
    "vectors = torch.zeros(world.shape, dtype=torch.float32, device=GPU)#world * 3 + (torch.rand(world.shape, dtype=torch.float32, device=GPU) * 700 - 350)\n",
    "max_position = 0\n",
    "\n",
    "while running:\n",
    "    if float(torch.max(torch.abs(world))) >= max_position:\n",
    "        max_position = float(torch.max(torch.abs(world)))\n",
    "    \n",
    "    for event in pygame.event.get():\n",
    "        if event.type == pygame.QUIT:\n",
    "            running = False\n",
    "\n",
    "    # Clear the screen\n",
    "    screen.fill(bg_color)\n",
    "\n",
    "    # Update your PyTorch world (you'll need to adapt this part)\n",
    "    vectors = get_global_vectors(world, vectors)\n",
    "    world += vectors\n",
    "    \n",
    "    if world.shape[1] < 2:\n",
    "        zeros = torch.zeros((world.shape[0], 2 - world.shape[1]), device=GPU)\n",
    "        clipped = torch.cat((world, zeros), dim=1)\n",
    "    else:\n",
    "        clipped = world[:, :2]\n",
    "\n",
    "    counter = 0\n",
    "    # Draw dots on the screen based on your PyTorch world\n",
    "    for position in world:\n",
    "        # dims 0->2\n",
    "        if simulation_dimension >= 2:\n",
    "            position = map_to_screen(world[counter][:2], max_position)\n",
    "        else:\n",
    "            zeros = torch.zeros((world.shape[0], 2 - world.shape[1]), device=GPU)\n",
    "            position = map_to_screen(torch.cat((world, zeros), dim=1), max_position)\n",
    "        \n",
    "        # dims 2->5\n",
    "        if simulation_dimension >= 5:\n",
    "            color = tuple(((world[counter][2:5] - world[counter][2:5].min()) / (world[counter][2:5].max() - world[counter][2:5].min()) * 255).long().tolist())\n",
    "        else:\n",
    "            color = (255, 255, 255)\n",
    "        \n",
    "        pygame.draw.circle(screen, color, position, 1)#float(torch.sigmoid(torch.mean(world[counter][2:])) * particle_display_size + 1))  # 5 is the radius of the dot\n",
    "        counter += 1\n",
    "    #pygame.draw.circle(screen, (116, 255, 56), map_to_screen(torch.tensor([0, 0]), max_position), 5)  # 5 is the radius of the dot\n",
    "\n",
    "    # Update the display\n",
    "    pygame.display.flip()\n",
    "\n",
    "# Quit Pygame\n",
    "pygame.quit()\n",
    "sys.exit()"
   ]
  },
  {
   "cell_type": "code",
   "execution_count": null,
   "metadata": {},
   "outputs": [],
   "source": []
  }
 ],
 "metadata": {
  "kernelspec": {
   "display_name": "MAIN_ENV",
   "language": "python",
   "name": "python3"
  },
  "language_info": {
   "codemirror_mode": {
    "name": "ipython",
    "version": 3
   },
   "file_extension": ".py",
   "mimetype": "text/x-python",
   "name": "python",
   "nbconvert_exporter": "python",
   "pygments_lexer": "ipython3",
   "version": "3.9.16"
  },
  "orig_nbformat": 4
 },
 "nbformat": 4,
 "nbformat_minor": 2
}
