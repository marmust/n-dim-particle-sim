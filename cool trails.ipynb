{
 "cells": [
  {
   "cell_type": "code",
   "execution_count": 1,
   "metadata": {},
   "outputs": [
    {
     "name": "stdout",
     "output_type": "stream",
     "text": [
      "pygame 2.5.1 (SDL 2.28.2, Python 3.9.16)\n",
      "Hello from the pygame community. https://www.pygame.org/contribute.html\n"
     ]
    }
   ],
   "source": [
    "import torch\n",
    "import torch.nn.functional as F\n",
    "import torch.nn as nn\n",
    "import pygame\n",
    "import time"
   ]
  },
  {
   "cell_type": "code",
   "execution_count": 2,
   "metadata": {},
   "outputs": [],
   "source": [
    "# world initialization settings:\n",
    "simulation_dimension = 5\n",
    "num_of_particles = 500\n",
    "scatter_size = 1000\n",
    "\n",
    "# particle interaction settings:\n",
    "big_G = 1\n",
    "particle_mass = 1\n",
    "momentum_conservation_value = 1\n",
    "gas_friction_coefficient = 1\n",
    "\n",
    "# these are modifiers from lior type function\n",
    "# copy paste to desmos:\n",
    "\n",
    "# \\frac{r\\left(ux-f\\right)}{\\left(ux-f\\right)^{2}+c}\n",
    "\n",
    "# distance <---> gravity function modifiers\n",
    "gravity_r = 10\n",
    "gravity_c = 1\n",
    "gravity_f = -1\n",
    "gravity_u = 1.2\n",
    "\n",
    "# same thing here, ior function modifiers.\n",
    "# here i tried making nearby particles apply similar forces on each other to simulate interstellar gas.\n",
    "\n",
    "# distance <---> gas function modifiers\n",
    "smoothing_rate = 0.8"
   ]
  },
  {
   "cell_type": "code",
   "execution_count": 3,
   "metadata": {},
   "outputs": [],
   "source": [
    "# if no gpu :(\n",
    "GPU = torch.device(\"cpu\")#torch.device(\"cuda\")\n",
    "world = (2 * scatter_size * torch.rand(num_of_particles * simulation_dimension, dtype=torch.float32, device=GPU) - scatter_size).view(-1, simulation_dimension)"
   ]
  },
  {
   "cell_type": "code",
   "execution_count": 4,
   "metadata": {},
   "outputs": [],
   "source": [
    "# lior func see desmos\n",
    "# works on tensors and python scalars\n",
    "def distance_decoder_function(intake, r, c, f, u):\n",
    "    return (r * (u * intake + f)) / ((u * intake + f) ** 2 + c)"
   ]
  },
  {
   "cell_type": "code",
   "execution_count": 5,
   "metadata": {},
   "outputs": [],
   "source": [
    "def smooth_tensor(tnsr):\n",
    "    score = torch.sum(world, dim=1)\n",
    "    \n",
    "    sorted_indices = torch.argsort(score)\n",
    "    original_indices = torch.argsort(sorted_indices)\n",
    "    \n",
    "    sorted_tnsr = tnsr[sorted_indices]\n",
    "    blurred_tnsr = (sorted_tnsr + torch.cat((sorted_tnsr[-1:], sorted_tnsr[:-1]), dim=0)) / 2\n",
    "    unsorted_blurred_tnsr = blurred_tnsr[original_indices]\n",
    "    \n",
    "    return unsorted_blurred_tnsr"
   ]
  },
  {
   "cell_type": "code",
   "execution_count": 6,
   "metadata": {},
   "outputs": [],
   "source": [
    "def get_global_vectors(world, previous_global_vectors):\n",
    "    differences = world[:, None, :] - world[None, :, :]\n",
    "    squared_distances = torch.sum(differences**2, dim=-1)\n",
    "    inverse_squared_distances = distance_decoder_function(squared_distances, gravity_r, gravity_c, gravity_f, gravity_u)\n",
    "    \n",
    "    inverse_squared_distances[torch.isinf(inverse_squared_distances)] = 0.0\n",
    "\n",
    "    gravity_forces = -big_G * differences * particle_mass * inverse_squared_distances[:, :, None]\n",
    "    gravity_momentum_forces = gravity_forces.sum(dim=1) + previous_global_vectors * momentum_conservation_value\n",
    "    \n",
    "    travel_directions = world - (world - previous_global_vectors)\n",
    "    \n",
    "    unsorted_blurred_travel_directions = smooth_tensor(travel_directions)\n",
    "    \n",
    "    return gravity_momentum_forces + (unsorted_blurred_travel_directions * inverse_squared_distances[:, :, None].sum(dim=1) * -0.01)"
   ]
  },
  {
   "cell_type": "code",
   "execution_count": 7,
   "metadata": {},
   "outputs": [
    {
     "ename": "ValueError",
     "evalue": "cannot convert float NaN to integer",
     "output_type": "error",
     "traceback": [
      "\u001b[1;31m---------------------------------------------------------------------------\u001b[0m",
      "\u001b[1;31mValueError\u001b[0m                                Traceback (most recent call last)",
      "\u001b[1;32mc:\\Users\\user\\Desktop\\AUTOENCODER\\cool trails.ipynb Cell 7\u001b[0m line \u001b[0;36m5\n\u001b[0;32m     <a href='vscode-notebook-cell:/c%3A/Users/user/Desktop/AUTOENCODER/cool%20trails.ipynb#W6sZmlsZQ%3D%3D?line=53'>54</a>\u001b[0m \u001b[39mfor\u001b[39;00m position \u001b[39min\u001b[39;00m world:\n\u001b[0;32m     <a href='vscode-notebook-cell:/c%3A/Users/user/Desktop/AUTOENCODER/cool%20trails.ipynb#W6sZmlsZQ%3D%3D?line=54'>55</a>\u001b[0m     \u001b[39m# dims 0->2\u001b[39;00m\n\u001b[0;32m     <a href='vscode-notebook-cell:/c%3A/Users/user/Desktop/AUTOENCODER/cool%20trails.ipynb#W6sZmlsZQ%3D%3D?line=55'>56</a>\u001b[0m     \u001b[39mif\u001b[39;00m simulation_dimension \u001b[39m>\u001b[39m\u001b[39m=\u001b[39m \u001b[39m2\u001b[39m:\n\u001b[1;32m---> <a href='vscode-notebook-cell:/c%3A/Users/user/Desktop/AUTOENCODER/cool%20trails.ipynb#W6sZmlsZQ%3D%3D?line=56'>57</a>\u001b[0m         position \u001b[39m=\u001b[39m map_to_screen(world[counter][:\u001b[39m2\u001b[39;49m], max_position)\n\u001b[0;32m     <a href='vscode-notebook-cell:/c%3A/Users/user/Desktop/AUTOENCODER/cool%20trails.ipynb#W6sZmlsZQ%3D%3D?line=57'>58</a>\u001b[0m     \u001b[39melse\u001b[39;00m:\n\u001b[0;32m     <a href='vscode-notebook-cell:/c%3A/Users/user/Desktop/AUTOENCODER/cool%20trails.ipynb#W6sZmlsZQ%3D%3D?line=58'>59</a>\u001b[0m         zeros \u001b[39m=\u001b[39m torch\u001b[39m.\u001b[39mzeros((world\u001b[39m.\u001b[39mshape[\u001b[39m0\u001b[39m], \u001b[39m2\u001b[39m \u001b[39m-\u001b[39m world\u001b[39m.\u001b[39mshape[\u001b[39m1\u001b[39m]), device\u001b[39m=\u001b[39mGPU)\n",
      "\u001b[1;32mc:\\Users\\user\\Desktop\\AUTOENCODER\\cool trails.ipynb Cell 7\u001b[0m line \u001b[0;36m1\n\u001b[0;32m     <a href='vscode-notebook-cell:/c%3A/Users/user/Desktop/AUTOENCODER/cool%20trails.ipynb#W6sZmlsZQ%3D%3D?line=15'>16</a>\u001b[0m \u001b[39mdef\u001b[39;00m \u001b[39mmap_to_screen\u001b[39m(position, max_position): \n\u001b[0;32m     <a href='vscode-notebook-cell:/c%3A/Users/user/Desktop/AUTOENCODER/cool%20trails.ipynb#W6sZmlsZQ%3D%3D?line=16'>17</a>\u001b[0m     x, y \u001b[39m=\u001b[39m position\u001b[39m.\u001b[39mdetach()\u001b[39m.\u001b[39mcpu()\u001b[39m.\u001b[39mnumpy()\n\u001b[1;32m---> <a href='vscode-notebook-cell:/c%3A/Users/user/Desktop/AUTOENCODER/cool%20trails.ipynb#W6sZmlsZQ%3D%3D?line=17'>18</a>\u001b[0m     x \u001b[39m=\u001b[39m \u001b[39mint\u001b[39;49m((x \u001b[39m/\u001b[39;49m max_position \u001b[39m+\u001b[39;49m \u001b[39m1\u001b[39;49m) \u001b[39m*\u001b[39;49m window_size[\u001b[39m0\u001b[39;49m] \u001b[39m/\u001b[39;49m \u001b[39m2\u001b[39;49m)\n\u001b[0;32m     <a href='vscode-notebook-cell:/c%3A/Users/user/Desktop/AUTOENCODER/cool%20trails.ipynb#W6sZmlsZQ%3D%3D?line=18'>19</a>\u001b[0m     y \u001b[39m=\u001b[39m \u001b[39mint\u001b[39m((y \u001b[39m/\u001b[39m max_position \u001b[39m+\u001b[39m \u001b[39m1\u001b[39m) \u001b[39m*\u001b[39m window_size[\u001b[39m1\u001b[39m] \u001b[39m/\u001b[39m \u001b[39m2\u001b[39m)\n\u001b[0;32m     <a href='vscode-notebook-cell:/c%3A/Users/user/Desktop/AUTOENCODER/cool%20trails.ipynb#W6sZmlsZQ%3D%3D?line=19'>20</a>\u001b[0m     \u001b[39mreturn\u001b[39;00m x, y\n",
      "\u001b[1;31mValueError\u001b[0m: cannot convert float NaN to integer"
     ]
    },
    {
     "ename": "",
     "evalue": "",
     "output_type": "error",
     "traceback": [
      "\u001b[1;31mThe Kernel crashed while executing code in the the current cell or a previous cell. Please review the code in the cell(s) to identify a possible cause of the failure. Click <a href='https://aka.ms/vscodeJupyterKernelCrash'>here</a> for more info. View Jupyter <a href='command:jupyter.viewOutput'>log</a> for further details."
     ]
    }
   ],
   "source": [
    "# Initialize Pygame\n",
    "pygame.init()\n",
    "\n",
    "# Set the window dimensions\n",
    "window_size = (800, 800)\n",
    "\n",
    "# Create a window\n",
    "screen = pygame.display.set_mode(window_size)\n",
    "pygame.display.set_caption(\"Particle Simulation\")\n",
    "\n",
    "# Define colors\n",
    "bg_color = (0, 0, 0)\n",
    "color = (255, 255, 255)\n",
    "\n",
    "# Function to map PyTorch tensor positions to screen coordinates\n",
    "def map_to_screen(position, max_position): \n",
    "    x, y = position.detach().cpu().numpy()\n",
    "    x = int((x / max_position + 1) * window_size[0] / 2)\n",
    "    y = int((y / max_position + 1) * window_size[1] / 2)\n",
    "    return x, y\n",
    "\n",
    "# Main game loop\n",
    "running = True\n",
    "vectors = torch.zeros(world.shape, dtype=torch.float32, device=GPU)# * 7000 - 3500\n",
    "max_position = 0\n",
    "\n",
    "while running:\n",
    "    if float(torch.max(torch.abs(world))) >= max_position:\n",
    "        max_position = float(torch.max(torch.abs(world)))\n",
    "    \n",
    "    for event in pygame.event.get():\n",
    "        if event.type == pygame.QUIT:\n",
    "            running = False\n",
    "\n",
    "    # Clear the screen\n",
    "    screen.fill(bg_color)\n",
    "    \n",
    "    #if torch.relu(scatter_size - torch.max(torch.abs(world))) > 0:\n",
    "    #    world += (world * torch.abs(world) / world ** 2) * torch.relu(scatter_size - torch.max(torch.abs(world)))\n",
    "    \n",
    "    # Update your PyTorch world (you'll need to adapt this part)\n",
    "    # ---+---\n",
    "    vectors = get_global_vectors(world, vectors)\n",
    "    world += vectors\n",
    "    \n",
    "    if world.shape[1] < 2:\n",
    "        zeros = torch.zeros((world.shape[0], 2 - world.shape[1]), device=GPU)\n",
    "        clipped = torch.cat((world, zeros), dim=1)\n",
    "    else:\n",
    "        clipped = world[:, :2]\n",
    "    \n",
    "    counter = 0\n",
    "    # Draw dots on the screen based on your PyTorch world\n",
    "    for position in world:\n",
    "        # dims 0->2\n",
    "        if simulation_dimension >= 2:\n",
    "            position = map_to_screen(world[counter][:2], max_position)\n",
    "        else:\n",
    "            zeros = torch.zeros((world.shape[0], 2 - world.shape[1]), device=GPU)\n",
    "            position = map_to_screen(torch.cat((world, zeros), dim=1), max_position)\n",
    "        \n",
    "        # special dim 3:\n",
    "        if simulation_dimension == 3:\n",
    "            min_val = torch.min(world[:, 2])\n",
    "            max_val = torch.max(world[:, 2])\n",
    "            color = ((world[counter][2] - min_val) / (max_val - min_val) * 255).repeat(3).tolist()\n",
    "\n",
    "            #print(shade)\n",
    "            #color = shade\n",
    "        \n",
    "        # dims 2->5\n",
    "        if simulation_dimension >= 5:\n",
    "            color = ((world[counter][2:5] - world[counter][2:5].min()) / (world[counter][2:5].max() - world[counter][2:5].min()) * 255).long().tolist()\n",
    "        \n",
    "        pygame.draw.circle(screen, color, position, 5)#float(torch.sigmoid(torch.mean(world[counter][2:])) * particle_display_size + 1))  # 5 is the radius of the dot\n",
    "        counter += 1\n",
    "    #pygame.draw.circle(screen, (116, 255, 56), map_to_screen(torch.tensor([0, 0]), max_position), 5)  # 5 is the radius of the dot\n",
    "\n",
    "    # Update the display\n",
    "    pygame.display.flip()\n",
    "\n",
    "# Quit Pygame\n",
    "pygame.quit()\n",
    "sys.exit()"
   ]
  },
  {
   "cell_type": "code",
   "execution_count": null,
   "metadata": {},
   "outputs": [
    {
     "data": {
      "text/plain": [
       "torch.Size([200, 200, 2])"
      ]
     },
     "execution_count": 9,
     "metadata": {},
     "output_type": "execute_result"
    }
   ],
   "source": [
    "(world[:, None, :] - world[None, :, :]).shape"
   ]
  },
  {
   "cell_type": "code",
   "execution_count": null,
   "metadata": {},
   "outputs": [],
   "source": []
  },
  {
   "cell_type": "code",
   "execution_count": null,
   "metadata": {},
   "outputs": [],
   "source": []
  },
  {
   "cell_type": "code",
   "execution_count": null,
   "metadata": {},
   "outputs": [],
   "source": []
  },
  {
   "cell_type": "code",
   "execution_count": null,
   "metadata": {},
   "outputs": [],
   "source": []
  },
  {
   "cell_type": "code",
   "execution_count": null,
   "metadata": {},
   "outputs": [],
   "source": []
  },
  {
   "cell_type": "code",
   "execution_count": null,
   "metadata": {},
   "outputs": [],
   "source": []
  },
  {
   "cell_type": "code",
   "execution_count": null,
   "metadata": {},
   "outputs": [],
   "source": []
  },
  {
   "cell_type": "code",
   "execution_count": null,
   "metadata": {},
   "outputs": [],
   "source": []
  },
  {
   "cell_type": "code",
   "execution_count": null,
   "metadata": {},
   "outputs": [],
   "source": []
  },
  {
   "cell_type": "code",
   "execution_count": null,
   "metadata": {},
   "outputs": [],
   "source": []
  },
  {
   "cell_type": "code",
   "execution_count": null,
   "metadata": {},
   "outputs": [],
   "source": []
  },
  {
   "cell_type": "code",
   "execution_count": null,
   "metadata": {},
   "outputs": [],
   "source": []
  },
  {
   "cell_type": "code",
   "execution_count": null,
   "metadata": {},
   "outputs": [],
   "source": []
  }
 ],
 "metadata": {
  "kernelspec": {
   "display_name": "MAIN_ENV",
   "language": "python",
   "name": "python3"
  },
  "language_info": {
   "codemirror_mode": {
    "name": "ipython",
    "version": 3
   },
   "file_extension": ".py",
   "mimetype": "text/x-python",
   "name": "python",
   "nbconvert_exporter": "python",
   "pygments_lexer": "ipython3",
   "version": "3.9.16"
  },
  "orig_nbformat": 4
 },
 "nbformat": 4,
 "nbformat_minor": 2
}
