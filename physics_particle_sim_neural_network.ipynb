{
 "cells": [
  {
   "cell_type": "code",
   "execution_count": 1,
   "metadata": {},
   "outputs": [
    {
     "name": "stdout",
     "output_type": "stream",
     "text": [
      "pygame 2.5.1 (SDL 2.28.2, Python 3.9.16)\n",
      "Hello from the pygame community. https://www.pygame.org/contribute.html\n"
     ]
    }
   ],
   "source": [
    "import torch\n",
    "import torch.nn as nn\n",
    "import torch.nn.functional as F\n",
    "import torch.optim as optim\n",
    "from torch.utils.data import Dataset, DataLoader\n",
    "import matplotlib.pyplot as plt\n",
    "from matplotlib.animation import FuncAnimation\n",
    "from tqdm import tqdm\n",
    "import pygame\n",
    "import sys\n",
    "import time"
   ]
  },
  {
   "cell_type": "code",
   "execution_count": 2,
   "metadata": {},
   "outputs": [],
   "source": [
    "# simulation settings\n",
    "num_of_particles = 6000\n",
    "range_value = 4000\n",
    "gravity_force_multiplier = -0.016\n",
    "momentum_value = 1\n",
    "friction = 0.9"
   ]
  },
  {
   "cell_type": "code",
   "execution_count": 3,
   "metadata": {},
   "outputs": [],
   "source": [
    "# training settings\n",
    "lr = 0.0002\n",
    "dset_size = 500000\n",
    "batch_size = 4096 * 32\n",
    "epochs = 100"
   ]
  },
  {
   "cell_type": "code",
   "execution_count": 4,
   "metadata": {},
   "outputs": [],
   "source": [
    "GPU = torch.device(\"cuda\")\n",
    "\n",
    "x_values = (2 * range_value * torch.rand(num_of_particles, dtype=torch.float32, device=GPU) - range_value).view(-1, 1)\n",
    "y_values = (2 * range_value * torch.rand(num_of_particles, dtype=torch.float32, device=GPU) - range_value).view(-1, 1)\n",
    "\n",
    "world = torch.cat((x_values, y_values), dim=1)"
   ]
  },
  {
   "cell_type": "code",
   "execution_count": 5,
   "metadata": {},
   "outputs": [],
   "source": [
    "def reset_world():\n",
    "    global world\n",
    "    \n",
    "    x_values = (2 * range_value * torch.rand(num_of_particles, dtype=torch.float32, device=GPU) - range_value).view(-1, 1)\n",
    "    y_values = (2 * range_value * torch.rand(num_of_particles, dtype=torch.float32, device=GPU) - range_value).view(-1, 1)\n",
    "\n",
    "    world = torch.cat((x_values, y_values), dim=1)\n",
    "    \n",
    "    return world"
   ]
  },
  {
   "cell_type": "code",
   "execution_count": 6,
   "metadata": {},
   "outputs": [
    {
     "ename": "KeyboardInterrupt",
     "evalue": "",
     "output_type": "error",
     "traceback": [
      "\u001b[1;31m---------------------------------------------------------------------------\u001b[0m",
      "\u001b[1;31mKeyboardInterrupt\u001b[0m                         Traceback (most recent call last)",
      "\u001b[1;32mc:\\Users\\user\\Desktop\\AUTOENCODER\\physics_particle_sim_yes_nn.ipynb Cell 6\u001b[0m line \u001b[0;36m1\n\u001b[0;32m     <a href='vscode-notebook-cell:/c%3A/Users/user/Desktop/AUTOENCODER/physics_particle_sim_yes_nn.ipynb#W5sZmlsZQ%3D%3D?line=13'>14</a>\u001b[0m         x \u001b[39m=\u001b[39m torch\u001b[39m.\u001b[39mtanh(\u001b[39mself\u001b[39m\u001b[39m.\u001b[39mfc4(x))\n\u001b[0;32m     <a href='vscode-notebook-cell:/c%3A/Users/user/Desktop/AUTOENCODER/physics_particle_sim_yes_nn.ipynb#W5sZmlsZQ%3D%3D?line=14'>15</a>\u001b[0m         \u001b[39mreturn\u001b[39;00m x\n\u001b[1;32m---> <a href='vscode-notebook-cell:/c%3A/Users/user/Desktop/AUTOENCODER/physics_particle_sim_yes_nn.ipynb#W5sZmlsZQ%3D%3D?line=16'>17</a>\u001b[0m net \u001b[39m=\u001b[39m Net()\n\u001b[0;32m     <a href='vscode-notebook-cell:/c%3A/Users/user/Desktop/AUTOENCODER/physics_particle_sim_yes_nn.ipynb#W5sZmlsZQ%3D%3D?line=17'>18</a>\u001b[0m net\u001b[39m.\u001b[39mto(GPU)\n",
      "\u001b[1;32mc:\\Users\\user\\Desktop\\AUTOENCODER\\physics_particle_sim_yes_nn.ipynb Cell 6\u001b[0m line \u001b[0;36m6\n\u001b[0;32m      <a href='vscode-notebook-cell:/c%3A/Users/user/Desktop/AUTOENCODER/physics_particle_sim_yes_nn.ipynb#W5sZmlsZQ%3D%3D?line=2'>3</a>\u001b[0m \u001b[39msuper\u001b[39m(Net, \u001b[39mself\u001b[39m)\u001b[39m.\u001b[39m\u001b[39m__init__\u001b[39m()\n\u001b[0;32m      <a href='vscode-notebook-cell:/c%3A/Users/user/Desktop/AUTOENCODER/physics_particle_sim_yes_nn.ipynb#W5sZmlsZQ%3D%3D?line=4'>5</a>\u001b[0m \u001b[39mself\u001b[39m\u001b[39m.\u001b[39mfc1 \u001b[39m=\u001b[39m nn\u001b[39m.\u001b[39mLinear(num_of_particles \u001b[39m*\u001b[39m \u001b[39m2\u001b[39m \u001b[39m*\u001b[39m \u001b[39m2\u001b[39m, num_of_particles \u001b[39m*\u001b[39m \u001b[39m2\u001b[39m \u001b[39m*\u001b[39m \u001b[39m2\u001b[39m)\n\u001b[1;32m----> <a href='vscode-notebook-cell:/c%3A/Users/user/Desktop/AUTOENCODER/physics_particle_sim_yes_nn.ipynb#W5sZmlsZQ%3D%3D?line=5'>6</a>\u001b[0m \u001b[39mself\u001b[39m\u001b[39m.\u001b[39mfc2 \u001b[39m=\u001b[39m nn\u001b[39m.\u001b[39;49mLinear(num_of_particles \u001b[39m*\u001b[39;49m \u001b[39m2\u001b[39;49m \u001b[39m*\u001b[39;49m \u001b[39m2\u001b[39;49m, num_of_particles \u001b[39m*\u001b[39;49m \u001b[39m2\u001b[39;49m)\n\u001b[0;32m      <a href='vscode-notebook-cell:/c%3A/Users/user/Desktop/AUTOENCODER/physics_particle_sim_yes_nn.ipynb#W5sZmlsZQ%3D%3D?line=6'>7</a>\u001b[0m \u001b[39mself\u001b[39m\u001b[39m.\u001b[39mfc3 \u001b[39m=\u001b[39m nn\u001b[39m.\u001b[39mLinear(num_of_particles \u001b[39m*\u001b[39m \u001b[39m2\u001b[39m, num_of_particles \u001b[39m*\u001b[39m \u001b[39m2\u001b[39m)\n\u001b[0;32m      <a href='vscode-notebook-cell:/c%3A/Users/user/Desktop/AUTOENCODER/physics_particle_sim_yes_nn.ipynb#W5sZmlsZQ%3D%3D?line=7'>8</a>\u001b[0m \u001b[39mself\u001b[39m\u001b[39m.\u001b[39mfc4 \u001b[39m=\u001b[39m nn\u001b[39m.\u001b[39mLinear(num_of_particles \u001b[39m*\u001b[39m \u001b[39m2\u001b[39m, num_of_particles \u001b[39m*\u001b[39m \u001b[39m2\u001b[39m)\n",
      "File \u001b[1;32mc:\\Users\\user\\anaconda3\\envs\\MAIN_ENV\\lib\\site-packages\\torch\\nn\\modules\\linear.py:101\u001b[0m, in \u001b[0;36mLinear.__init__\u001b[1;34m(self, in_features, out_features, bias, device, dtype)\u001b[0m\n\u001b[0;32m     99\u001b[0m \u001b[39melse\u001b[39;00m:\n\u001b[0;32m    100\u001b[0m     \u001b[39mself\u001b[39m\u001b[39m.\u001b[39mregister_parameter(\u001b[39m'\u001b[39m\u001b[39mbias\u001b[39m\u001b[39m'\u001b[39m, \u001b[39mNone\u001b[39;00m)\n\u001b[1;32m--> 101\u001b[0m \u001b[39mself\u001b[39;49m\u001b[39m.\u001b[39;49mreset_parameters()\n",
      "File \u001b[1;32mc:\\Users\\user\\anaconda3\\envs\\MAIN_ENV\\lib\\site-packages\\torch\\nn\\modules\\linear.py:107\u001b[0m, in \u001b[0;36mLinear.reset_parameters\u001b[1;34m(self)\u001b[0m\n\u001b[0;32m    103\u001b[0m \u001b[39mdef\u001b[39;00m \u001b[39mreset_parameters\u001b[39m(\u001b[39mself\u001b[39m) \u001b[39m-\u001b[39m\u001b[39m>\u001b[39m \u001b[39mNone\u001b[39;00m:\n\u001b[0;32m    104\u001b[0m     \u001b[39m# Setting a=sqrt(5) in kaiming_uniform is the same as initializing with\u001b[39;00m\n\u001b[0;32m    105\u001b[0m     \u001b[39m# uniform(-1/sqrt(in_features), 1/sqrt(in_features)). For details, see\u001b[39;00m\n\u001b[0;32m    106\u001b[0m     \u001b[39m# https://github.com/pytorch/pytorch/issues/57109\u001b[39;00m\n\u001b[1;32m--> 107\u001b[0m     init\u001b[39m.\u001b[39;49mkaiming_uniform_(\u001b[39mself\u001b[39;49m\u001b[39m.\u001b[39;49mweight, a\u001b[39m=\u001b[39;49mmath\u001b[39m.\u001b[39;49msqrt(\u001b[39m5\u001b[39;49m))\n\u001b[0;32m    108\u001b[0m     \u001b[39mif\u001b[39;00m \u001b[39mself\u001b[39m\u001b[39m.\u001b[39mbias \u001b[39mis\u001b[39;00m \u001b[39mnot\u001b[39;00m \u001b[39mNone\u001b[39;00m:\n\u001b[0;32m    109\u001b[0m         fan_in, _ \u001b[39m=\u001b[39m init\u001b[39m.\u001b[39m_calculate_fan_in_and_fan_out(\u001b[39mself\u001b[39m\u001b[39m.\u001b[39mweight)\n",
      "File \u001b[1;32mc:\\Users\\user\\anaconda3\\envs\\MAIN_ENV\\lib\\site-packages\\torch\\nn\\init.py:412\u001b[0m, in \u001b[0;36mkaiming_uniform_\u001b[1;34m(tensor, a, mode, nonlinearity)\u001b[0m\n\u001b[0;32m    410\u001b[0m bound \u001b[39m=\u001b[39m math\u001b[39m.\u001b[39msqrt(\u001b[39m3.0\u001b[39m) \u001b[39m*\u001b[39m std  \u001b[39m# Calculate uniform bounds from standard deviation\u001b[39;00m\n\u001b[0;32m    411\u001b[0m \u001b[39mwith\u001b[39;00m torch\u001b[39m.\u001b[39mno_grad():\n\u001b[1;32m--> 412\u001b[0m     \u001b[39mreturn\u001b[39;00m tensor\u001b[39m.\u001b[39;49muniform_(\u001b[39m-\u001b[39;49mbound, bound)\n",
      "\u001b[1;31mKeyboardInterrupt\u001b[0m: "
     ]
    },
    {
     "ename": "",
     "evalue": "",
     "output_type": "error",
     "traceback": [
      "\u001b[1;31mThe Kernel crashed while executing code in the the current cell or a previous cell. Please review the code in the cell(s) to identify a possible cause of the failure. Click <a href='https://aka.ms/vscodeJupyterKernelCrash'>here</a> for more info. View Jupyter <a href='command:jupyter.viewOutput'>log</a> for further details."
     ]
    }
   ],
   "source": [
    "class Net(nn.Module):\n",
    "    def __init__(self):\n",
    "        super(Net, self).__init__()\n",
    "\n",
    "        self.fc1 = nn.Linear(num_of_particles * 2 * 2, num_of_particles * 2 * 2)\n",
    "        self.fc2 = nn.Linear(num_of_particles * 2 * 2, num_of_particles * 2)\n",
    "        self.fc3 = nn.Linear(num_of_particles * 2, num_of_particles * 2)\n",
    "        self.fc4 = nn.Linear(num_of_particles * 2, num_of_particles * 2)\n",
    "\n",
    "    def forward(self, x):\n",
    "        x = torch.tanh(self.fc1(x))\n",
    "        x = torch.tanh(self.fc2(x))\n",
    "        x = torch.tanh(self.fc3(x))\n",
    "        x = torch.tanh(self.fc4(x))\n",
    "        return x\n",
    "\n",
    "net = Net()\n",
    "net.to(GPU)"
   ]
  },
  {
   "cell_type": "code",
   "execution_count": null,
   "metadata": {},
   "outputs": [],
   "source": [
    "loss = nn.MSELoss()\n",
    "optimizer = optim.Adam(net.parameters(), lr=lr)"
   ]
  },
  {
   "cell_type": "code",
   "execution_count": null,
   "metadata": {},
   "outputs": [],
   "source": [
    "def get_global_vectors(world, previous_global_vectors):\n",
    "    differences = world[:, None, :] - world[None, :, :]\n",
    "    squared_distances = torch.sum(differences**2, dim=-1)\n",
    "    inverse_squared_distances = 1 / (squared_distances + friction**2)  # Adding softening\n",
    "\n",
    "    # Set infinite distances (particle with itself) to zero to avoid division by zero\n",
    "    inverse_squared_distances[torch.isinf(inverse_squared_distances)] = 0.0\n",
    "\n",
    "    gravity_forces = gravity_force_multiplier * differences * inverse_squared_distances[:, :, None]\n",
    "\n",
    "    # Apply damping or friction\n",
    "    gravity_forces *= friction\n",
    "\n",
    "    return gravity_forces.sum(dim=1) + previous_global_vectors * momentum_value"
   ]
  },
  {
   "cell_type": "code",
   "execution_count": null,
   "metadata": {},
   "outputs": [],
   "source": [
    "def get_network_global_vectors(world, previous_global_vectors):\n",
    "    net_input = torch.cat((world.flatten(), previous_global_vectors.flatten()))\n",
    "    prediction = net(net_input)\n",
    "    return prediction.reshape(world.shape)"
   ]
  },
  {
   "cell_type": "code",
   "execution_count": null,
   "metadata": {},
   "outputs": [],
   "source": [
    "def train_nn(question_tensor, answer_tensor, model, loss=loss, optimizer=optimizer):\n",
    "    optimizer.zero_grad()\n",
    "    outputs = model(question_tensor)\n",
    "    loss = loss(outputs, answer_tensor)\n",
    "    loss.backward()\n",
    "    optimizer.step()\n",
    "    return loss.item()"
   ]
  },
  {
   "cell_type": "code",
   "execution_count": null,
   "metadata": {},
   "outputs": [],
   "source": [
    "class SimulationDataset():\n",
    "    def __init__(self, simulation_steps):\n",
    "        self.training_world = reset_world()\n",
    "        self.vectors = torch.zeros(world.shape, dtype=torch.float32, device=GPU)\n",
    "        self.questions = []\n",
    "        self.answers = []\n",
    "        \n",
    "        for x in tqdm(range(simulation_steps)):\n",
    "            self.previous = self.vectors\n",
    "            self.vectors = get_global_vectors(self.training_world, self.vectors)\n",
    "            self.training_world += self.vectors\n",
    "            \n",
    "            self.questions.append(torch.cat((self.training_world.flatten(),\n",
    "                                             self.previous.flatten())))\n",
    "            \n",
    "            self.future = get_global_vectors(self.training_world, self.vectors)\n",
    "            self.answers.append(self.future.flatten())\n",
    "            #print(len(self.questions))\n",
    "    \n",
    "    def __len__(self):\n",
    "        return len(self.questions)\n",
    "\n",
    "    def __getitem__(self, idx):\n",
    "        return self.questions[idx], self.answers[idx]"
   ]
  },
  {
   "cell_type": "code",
   "execution_count": null,
   "metadata": {},
   "outputs": [
    {
     "name": "stderr",
     "output_type": "stream",
     "text": [
      "  1%|          | 3905/500000 [00:01<04:09, 1991.51it/s]"
     ]
    }
   ],
   "source": [
    "dset = SimulationDataset(dset_size)\n",
    "train_loader = DataLoader(dset, batch_size=batch_size, shuffle=True)"
   ]
  },
  {
   "cell_type": "code",
   "execution_count": null,
   "metadata": {},
   "outputs": [
    {
     "name": "stderr",
     "output_type": "stream",
     "text": [
      "100%|██████████| 100/100 [04:44<00:00,  2.85s/it]\n"
     ]
    }
   ],
   "source": [
    "loss_list = []\n",
    "\n",
    "for y in tqdm(range(epochs)):\n",
    "    for x in enumerate(train_loader):\n",
    "        loss_list.append(train_nn(x[1][0], x[1][1], net))"
   ]
  },
  {
   "cell_type": "code",
   "execution_count": null,
   "metadata": {},
   "outputs": [
    {
     "data": {
      "text/plain": [
       "[<matplotlib.lines.Line2D at 0x22eb8e25e80>]"
      ]
     },
     "execution_count": 14,
     "metadata": {},
     "output_type": "execute_result"
    },
    {
     "data": {
      "image/png": "[encoded data removed]",
      "text/plain": [
       "<Figure size 640x480 with 1 Axes>"
      ]
     },
     "metadata": {},
     "output_type": "display_data"
    }
   ],
   "source": [
    "plt.plot(loss_list)"
   ]
  },
  {
   "cell_type": "code",
   "execution_count": null,
   "metadata": {},
   "outputs": [],
   "source": [
    "# Initialize Pygame\n",
    "pygame.init()\n",
    "\n",
    "# Set the window dimensions\n",
    "window_size = (1000, 1000)\n",
    "\n",
    "# Create a window\n",
    "screen = pygame.display.set_mode(window_size)\n",
    "pygame.display.set_caption(\"Particle Simulation\")\n",
    "\n",
    "# Define colors\n",
    "bg_color = (138, 175, 255)\n",
    "dot_color = (255, 255, 255)\n",
    "\n",
    "# Function to map PyTorch tensor positions to screen coordinates\n",
    "def map_to_screen(position, max_position):\n",
    "    x, y = position.detach().cpu().numpy()\n",
    "    x = int((x / max_position + 1) * window_size[0] / 2)\n",
    "    y = int((y / max_position + 1) * window_size[1] / 2)\n",
    "    return x, y\n",
    "\n",
    "# Main game loop\n",
    "running = True\n",
    "\n",
    "vectors = torch.zeros(world.shape, dtype=torch.float32, device=GPU)\n",
    "max_position = float(torch.max(torch.abs(world)))\n",
    "\n",
    "while running:\n",
    "    if float(torch.max(torch.abs(world))) >= max_position:\n",
    "        max_position = float(torch.max(torch.abs(world)))\n",
    "    \n",
    "    for event in pygame.event.get():\n",
    "        if event.type == pygame.QUIT:\n",
    "            running = False\n",
    "\n",
    "    # Clear the screen\n",
    "    screen.fill(bg_color)\n",
    "\n",
    "    # Update your PyTorch world (you'll need to adapt this part)\n",
    "    vectors = get_network_global_vectors(world, vectors)\n",
    "    world += vectors\n",
    "\n",
    "    # Draw dots on the screen based on your PyTorch world\n",
    "    for position in world:\n",
    "        pygame.draw.circle(screen, dot_color, map_to_screen(position, max_position), 5)  # 5 is the radius of the dot\n",
    "    #pygame.draw.circle(screen, (116, 255, 56), map_to_screen(torch.tensor([0, 0]), max_position), 5)  # 5 is the radius of the dot\n",
    "\n",
    "    # Update the display\n",
    "    pygame.display.flip()\n",
    "\n",
    "# Quit Pygame\n",
    "pygame.quit()\n",
    "sys.exit()"
   ]
  },
  {
   "cell_type": "code",
   "execution_count": null,
   "metadata": {},
   "outputs": [],
   "source": []
  },
  {
   "cell_type": "code",
   "execution_count": null,
   "metadata": {},
   "outputs": [],
   "source": []
  },
  {
   "cell_type": "code",
   "execution_count": null,
   "metadata": {},
   "outputs": [],
   "source": []
  },
  {
   "cell_type": "code",
   "execution_count": null,
   "metadata": {},
   "outputs": [],
   "source": []
  },
  {
   "cell_type": "code",
   "execution_count": 47,
   "metadata": {},
   "outputs": [],
   "source": [
    "import re"
   ]
  },
  {
   "cell_type": "code",
   "execution_count": 48,
   "metadata": {},
   "outputs": [],
   "source": [
    "def remove_from_str(string, remove_characters):\n",
    "    for x in remove_characters:\n",
    "        string = string.replace(x, \"\")\n",
    "    return string"
   ]
  },
  {
   "cell_type": "code",
   "execution_count": 64,
   "metadata": {},
   "outputs": [],
   "source": [
    "def extract_vars(line, invalid):\n",
    "    line = line.split(\"=\")[1]\n",
    "    return list(set(re.sub(r'\\s+', ' ', remove_from_str(line, \"+=-*/%()1234567890.<>\")).strip().split(\" \")) + invalid)"
   ]
  },
  {
   "cell_type": "code",
   "execution_count": 65,
   "metadata": {},
   "outputs": [
    {
     "ename": "TypeError",
     "evalue": "extract_vars() missing 1 required positional argument: 'invalid'",
     "output_type": "error",
     "traceback": [
      "\u001b[1;31m---------------------------------------------------------------------------\u001b[0m",
      "\u001b[1;31mTypeError\u001b[0m                                 Traceback (most recent call last)",
      "\u001b[1;32mc:\\Users\\user\\Desktop\\AUTOENCODER\\physics_particle_sim_yes_nn.ipynb Cell 23\u001b[0m line \u001b[0;36m1\n\u001b[0;32m     <a href='vscode-notebook-cell:/c%3A/Users/user/Desktop/AUTOENCODER/physics_particle_sim_yes_nn.ipynb#X30sZmlsZQ%3D%3D?line=10'>11</a>\u001b[0m variables \u001b[39m=\u001b[39m []\n\u001b[0;32m     <a href='vscode-notebook-cell:/c%3A/Users/user/Desktop/AUTOENCODER/physics_particle_sim_yes_nn.ipynb#X30sZmlsZQ%3D%3D?line=12'>13</a>\u001b[0m \u001b[39mfor\u001b[39;00m x \u001b[39min\u001b[39;00m calculation\u001b[39m.\u001b[39msplit(\u001b[39m\"\u001b[39m\u001b[39m\\n\u001b[39;00m\u001b[39m\"\u001b[39m):\n\u001b[1;32m---> <a href='vscode-notebook-cell:/c%3A/Users/user/Desktop/AUTOENCODER/physics_particle_sim_yes_nn.ipynb#X30sZmlsZQ%3D%3D?line=13'>14</a>\u001b[0m     variables \u001b[39m+\u001b[39m\u001b[39m=\u001b[39m extract_vars(x)\n",
      "\u001b[1;31mTypeError\u001b[0m: extract_vars() missing 1 required positional argument: 'invalid'"
     ]
    }
   ],
   "source": [
    "calculation = \"\"\"test = hate_niggers * 2.4 / amogus_skibidi_toilet\n",
    "sex_furry_porn = test + 1\"\"\"\n",
    "\n",
    "display_name = \"sex_furry_porn\"\n",
    "\n",
    "if \".\" in calculation:\n",
    "    dtype = \"double\"\n",
    "else:\n",
    "    dtype = \"int\"\n",
    "\n",
    "variables = []\n",
    "\n",
    "for x in calculation.split(\"\\n\"):\n",
    "    variables += extract_vars(x, )"
   ]
  },
  {
   "cell_type": "code",
   "execution_count": 63,
   "metadata": {},
   "outputs": [
    {
     "data": {
      "text/plain": [
       "['amogus_skibidi_toilet', 'hate_niggers', 'test']"
      ]
     },
     "execution_count": 63,
     "metadata": {},
     "output_type": "execute_result"
    }
   ],
   "source": [
    "variables"
   ]
  },
  {
   "cell_type": "code",
   "execution_count": 58,
   "metadata": {},
   "outputs": [],
   "source": [
    "input_text_block = \"\"\n",
    "\n",
    "for x in variables:\n",
    "    input_text_block += f\"            {x} = int.Parse(Console.ReadLine());\\n\""
   ]
  },
  {
   "cell_type": "code",
   "execution_count": 59,
   "metadata": {},
   "outputs": [
    {
     "name": "stdout",
     "output_type": "stream",
     "text": [
      "            amogus_skibidi_toilet = int.Parse(Console.ReadLine());\n",
      "            hate_niggers = int.Parse(Console.ReadLine());\n",
      "\n"
     ]
    }
   ],
   "source": [
    "print(input_text_block)"
   ]
  },
  {
   "cell_type": "code",
   "execution_count": 28,
   "metadata": {},
   "outputs": [],
   "source": [
    "template_insertion = f'''using System;\\nnamespace test\\n[OPEN_BRACKET]\\nclass Program\\n    [OPEN_BRACKET]\\n        static void Main(String[] args)\\n        [OPEN_BRACKET]\\n            {dtype} {\", \".join(variables)}, {display_name};\\n            Console.WriteLine(\"write: {\", \".join(variables)}:\");\\n\\n{input_text_block}\\n            {display_name} = {calculation};\\n\\n            Console.WriteLine(\"{display_name.replace(\"_\", \" \")}: \" + {display_name});\\n\\n        [CLOSE_BRACKET]\\n    [CLOSE_BRACKET]\\n[CLOSE_BRACKET]'''"
   ]
  },
  {
   "cell_type": "code",
   "execution_count": 29,
   "metadata": {},
   "outputs": [
    {
     "name": "stdout",
     "output_type": "stream",
     "text": [
      "using System;\n",
      "namespace test\n",
      "{\n",
      "class Program\n",
      "    {\n",
      "        static void Main(String[] args)\n",
      "        {\n",
      "            double amogus_skibidi_toilet, hate_niggers, sex_furry_porn;\n",
      "            Console.WriteLine(\"write: amogus_skibidi_toilet, hate_niggers:\");\n",
      "\n",
      "            amogus_skibidi_toilet = int.Parse(Console.ReadLine());\n",
      "            hate_niggers = int.Parse(Console.ReadLine());\n",
      "\n",
      "            sex_furry_porn = hate_niggers * 2.4 / amogus_skibidi_toilet;\n",
      "\n",
      "            Console.WriteLine(\"sex furry porn: \" + sex_furry_porn);\n",
      "\n",
      "        }\n",
      "    }\n",
      "}\n"
     ]
    }
   ],
   "source": [
    "print(template_insertion.replace(\"[CLOSE_BRACKET]\", \"}\").replace(\"[OPEN_BRACKET]\", \"{\"))"
   ]
  },
  {
   "cell_type": "code",
   "execution_count": null,
   "metadata": {},
   "outputs": [],
   "source": []
  }
 ],
 "metadata": {
  "kernelspec": {
   "display_name": "MAIN_ENV",
   "language": "python",
   "name": "python3"
  },
  "language_info": {
   "codemirror_mode": {
    "name": "ipython",
    "version": 3
   },
   "file_extension": ".py",
   "mimetype": "text/x-python",
   "name": "python",
   "nbconvert_exporter": "python",
   "pygments_lexer": "ipython3",
   "version": "3.9.16"
  },
  "orig_nbformat": 4
 },
 "nbformat": 4,
 "nbformat_minor": 2
}
