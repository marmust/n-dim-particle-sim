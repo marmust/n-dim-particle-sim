{
 "cells": [
  {
   "cell_type": "code",
   "execution_count": 1,
   "metadata": {},
   "outputs": [],
   "source": [
    "# very confusing code\n",
    "# im not going to document it\n",
    "# check 8AAFFF on yt for explanation"
   ]
  },
  {
   "cell_type": "code",
   "execution_count": 2,
   "metadata": {},
   "outputs": [
    {
     "name": "stdout",
     "output_type": "stream",
     "text": [
      "pygame 2.5.1 (SDL 2.28.2, Python 3.9.16)\n",
      "Hello from the pygame community. https://www.pygame.org/contribute.html\n"
     ]
    }
   ],
   "source": [
    "import torch\n",
    "import pygame"
   ]
  },
  {
   "cell_type": "code",
   "execution_count": 3,
   "metadata": {},
   "outputs": [],
   "source": [
    "# world initialization settings:\n",
    "simulation_dimension = 2\n",
    "num_of_particles = 400\n",
    "# particles will be instantiated from -1000 to 1000\n",
    "scatter_size = 1000\n",
    "\n",
    "# particle interaction settings:\n",
    "big_G = 0.1\n",
    "particle_mass = 0.01\n",
    "momentum_conservation_value = 0.99\n",
    "\n",
    "# distance <---> gravity function modifiers\n",
    "gravity_r = 100\n",
    "gravity_c = 0.01\n",
    "gravity_f = 0\n",
    "gravity_u = 0.001\n",
    "\n",
    "# same thing here, ior function modifiers.\n",
    "# here i tried making nearby particles apply similar forces on each other to simulate interstellar gas.\n",
    "\n",
    "# no longer functional im afraid to delete\n",
    "\n",
    "# distance <---> gas function modifiers\n",
    "#smoothing_rate = 0.8\n",
    "\n",
    "# misc settings:\n",
    "# if u want to add a bunch of particles strapped to ur mouse.\n",
    "# 0 -> disable thing\n",
    "center_black_hole_number = 0#1000"
   ]
  },
  {
   "cell_type": "code",
   "execution_count": 4,
   "metadata": {},
   "outputs": [],
   "source": [
    "# if no gpu\n",
    "GPU = torch.device(\"cpu\")#torch.device(\"cuda\")\n",
    "world = (2 * scatter_size * torch.rand((num_of_particles + center_black_hole_number) * simulation_dimension, dtype=torch.float32, device=GPU) - scatter_size).view(-1, simulation_dimension)\n",
    "#world[:center_black_hole_number] = torch.zeros(world[:center_black_hole_number].shape)"
   ]
  },
  {
   "cell_type": "code",
   "execution_count": 5,
   "metadata": {},
   "outputs": [],
   "source": [
    "# func see desmos\n",
    "# \\frac{r\\left(ux-f\\right)}{\\left(ux-f\\right)^{2}+c}\n",
    "# ^^ copy paste to desmos\n",
    "# works on tensors and python scalars\n",
    "def distance_decoder_function(intake, r, c, f, u):\n",
    "    return (r * (u*intake-f)) / ((u*intake-f) ** 2 + c)"
   ]
  },
  {
   "cell_type": "code",
   "execution_count": 6,
   "metadata": {},
   "outputs": [],
   "source": [
    "# for feature to give close partices similar forces\n",
    "def smooth_tensor(tnsr):\n",
    "    score = torch.sum(world, dim=1)\n",
    "    \n",
    "    sorted_indices = torch.argsort(score)\n",
    "    original_indices = torch.argsort(sorted_indices)\n",
    "    \n",
    "    sorted_tnsr = tnsr[sorted_indices]\n",
    "    blurred_tnsr = (sorted_tnsr + torch.cat((sorted_tnsr[-1:], sorted_tnsr[:-1]), dim=0)) / 2\n",
    "    unsorted_blurred_tnsr = blurred_tnsr[original_indices]\n",
    "    \n",
    "    return unsorted_blurred_tnsr"
   ]
  },
  {
   "cell_type": "code",
   "execution_count": 7,
   "metadata": {},
   "outputs": [],
   "source": [
    "# actual calculation to porgress simulation by one frame\n",
    "def get_global_vectors(world, previous_global_vectors):\n",
    "    differences = world[:, None, :] - world[None, :, :]\n",
    "    squared_distances = torch.sum(differences**2, dim=-1)\n",
    "    inverse_squared_distances = distance_decoder_function(squared_distances, gravity_r, gravity_c, gravity_f, gravity_u)\n",
    "    \n",
    "    inverse_squared_distances[torch.isinf(inverse_squared_distances)] = 0.0\n",
    "\n",
    "    gravity_forces = -big_G * differences * particle_mass * inverse_squared_distances[:, :, None]\n",
    "    gravity_momentum_forces = gravity_forces.sum(dim=1) + previous_global_vectors * momentum_conservation_value\n",
    "    \n",
    "    #gravity_momentum_forces = smooth_tensor(gravity_momentum_forces)\n",
    "    \n",
    "    return gravity_momentum_forces"
   ]
  },
  {
   "cell_type": "code",
   "execution_count": 8,
   "metadata": {},
   "outputs": [
    {
     "ename": "NameError",
     "evalue": "name 'sys' is not defined",
     "output_type": "error",
     "traceback": [
      "\u001b[1;31m---------------------------------------------------------------------------\u001b[0m",
      "\u001b[1;31mNameError\u001b[0m                                 Traceback (most recent call last)",
      "\u001b[1;32mc:\\Users\\user\\Desktop\\AUTOENCODER\\pytorch_n-dim_physics_sim.ipynb Cell 8\u001b[0m line \u001b[0;36m9\n\u001b[0;32m     <a href='vscode-notebook-cell:/c%3A/Users/user/Desktop/AUTOENCODER/pytorch_n-dim_physics_sim.ipynb#W6sZmlsZQ%3D%3D?line=94'>95</a>\u001b[0m \u001b[39m# Quit Pygame\u001b[39;00m\n\u001b[0;32m     <a href='vscode-notebook-cell:/c%3A/Users/user/Desktop/AUTOENCODER/pytorch_n-dim_physics_sim.ipynb#W6sZmlsZQ%3D%3D?line=95'>96</a>\u001b[0m pygame\u001b[39m.\u001b[39mquit()\n\u001b[1;32m---> <a href='vscode-notebook-cell:/c%3A/Users/user/Desktop/AUTOENCODER/pytorch_n-dim_physics_sim.ipynb#W6sZmlsZQ%3D%3D?line=96'>97</a>\u001b[0m sys\u001b[39m.\u001b[39mexit()\n",
      "\u001b[1;31mNameError\u001b[0m: name 'sys' is not defined"
     ]
    }
   ],
   "source": [
    "# i aint documenting all that\n",
    "# ask chatgpt bcs it wrote it anyways\n",
    "\n",
    "\n",
    "\n",
    "\n",
    "# Initialize Pygame\n",
    "pygame.init()\n",
    "\n",
    "# Set the window dimensions\n",
    "window_size = (800, 800)\n",
    "\n",
    "# Create a window\n",
    "screen = pygame.display.set_mode(window_size)\n",
    "pygame.display.set_caption(\"Particle Simulation\")\n",
    "\n",
    "# Define colors\n",
    "bg_color = (0, 0, 0)\n",
    "color = (255, 255, 255)\n",
    "\n",
    "# Function to map PyTorch tensor positions to screen coordinates\n",
    "def map_to_screen(position, max_position): \n",
    "    x, y = position.detach().cpu().numpy()\n",
    "    x = int((x / max_position + 1) * window_size[0] / 2)\n",
    "    y = int((y / max_position + 1) * window_size[1] / 2)\n",
    "    return x, y\n",
    "\n",
    "def map_from_screen(position, max_position):\n",
    "    x, y = position[0], position[1]\n",
    "    x = (x / window_size[0] * 2 - 1) * max_position\n",
    "    y = (y / window_size[1] * 2 - 1) * max_position\n",
    "    return torch.tensor((x, y), dtype=torch.float32, device=GPU)\n",
    "\n",
    "# Main game loop\n",
    "running = True\n",
    "vectors = torch.zeros(world.shape, dtype=torch.float32, device=GPU)# * 700 - 350\n",
    "max_position = 0\n",
    "\n",
    "while running:\n",
    "    if float(torch.max(torch.abs(world))) >= max_position:\n",
    "        max_position = float(torch.max(torch.abs(world)))\n",
    "    \n",
    "    for event in pygame.event.get():\n",
    "        if event.type == pygame.QUIT:\n",
    "            running = False\n",
    "\n",
    "    # Clear the screen\n",
    "    screen.fill(bg_color)\n",
    "    \n",
    "    #if torch.relu(scatter_size - torch.max(torch.abs(world))) > 0:\n",
    "    #    world += (world * torch.abs(world) / world ** 2) * torch.relu(scatter_size - torch.max(torch.abs(world)))\n",
    "    \n",
    "    # Update your PyTorch world (you'll need to adapt this part)\n",
    "    # ---+---\n",
    "    vectors = get_global_vectors(world, vectors)\n",
    "    world += vectors\n",
    "    world[:center_black_hole_number] = torch.ones(world[:center_black_hole_number].shape) * map_from_screen(pygame.mouse.get_pos(), max_position)\n",
    "    \n",
    "    if world.shape[1] < 2:\n",
    "        zeros = torch.zeros((world.shape[0], 2 - world.shape[1]), device=GPU)\n",
    "        clipped = torch.cat((world, zeros), dim=1)\n",
    "    else:\n",
    "        clipped = world[:, :2]\n",
    "    #print(pygame.mouse.get_pos())\n",
    "    counter = 0\n",
    "    # Draw dots on the screen based on your PyTorch world\n",
    "    for position in world:\n",
    "        # dims 0->2\n",
    "        if simulation_dimension >= 2:\n",
    "            position = map_to_screen(world[counter][:2], max_position)\n",
    "        else:\n",
    "            zeros = torch.zeros((world.shape[0], 2 - world.shape[1]), device=GPU)\n",
    "            position = map_to_screen(torch.cat((world, zeros), dim=1), max_position)\n",
    "        \n",
    "        # special dim 3:\n",
    "        if simulation_dimension == 3:\n",
    "            min_val = torch.min(world[:, 2])\n",
    "            max_val = torch.max(world[:, 2])\n",
    "            color = torch.clamp(((world[counter][2] - min_val) / (max_val - min_val) * 255).repeat(3), 50, 300).tolist()\n",
    "\n",
    "            #print(shade)\n",
    "            #color = shade\n",
    "        \n",
    "        # dims 2->5\n",
    "        if simulation_dimension >= 5:\n",
    "            color = ((world[counter][2:5] - world[counter][2:5].min()) / (world[counter][2:5].max() - world[counter][2:5].min()) * 255).long().tolist()\n",
    "        \n",
    "        pygame.draw.circle(screen, color, position, 1)#float(torch.sigmoid(torch.mean(world[counter][2:])) * particle_display_size + 1))  # 5 is the radius of the dot\n",
    "        counter += 1\n",
    "    pygame.draw.circle(screen, (116, 255, 56), map_to_screen(map_from_screen(pygame.mouse.get_pos(), max_position), max_position), 5)  # 5 is the radius of the dot\n",
    "\n",
    "    # Update the display\n",
    "    pygame.display.flip()\n",
    "\n",
    "# Quit Pygame\n",
    "pygame.quit()\n",
    "sys.exit()"
   ]
  },
  {
   "cell_type": "code",
   "execution_count": null,
   "metadata": {},
   "outputs": [],
   "source": []
  }
 ],
 "metadata": {
  "kernelspec": {
   "display_name": "MAIN_ENV",
   "language": "python",
   "name": "python3"
  },
  "language_info": {
   "codemirror_mode": {
    "name": "ipython",
    "version": 3
   },
   "file_extension": ".py",
   "mimetype": "text/x-python",
   "name": "python",
   "nbconvert_exporter": "python",
   "pygments_lexer": "ipython3",
   "version": "3.9.16"
  },
  "orig_nbformat": 4
 },
 "nbformat": 4,
 "nbformat_minor": 2
}
